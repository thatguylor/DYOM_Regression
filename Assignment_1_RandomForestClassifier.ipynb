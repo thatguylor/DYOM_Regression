{
 "cells": [
  {
   "cell_type": "code",
   "execution_count": null,
   "metadata": {},
   "outputs": [],
   "source": [
    "import pandas as pd\n",
    "import numpy as np\n",
    "from sklearn.ensemble import RandomForestClassifier\n",
    "from sklearn.svm import LinearSVC\n",
    "from sklearn.feature_selection import SelectFromModel\n",
    "from sklearn.pipeline import Pipeline\n",
    "from sklearn.preprocessing import OneHotEncoder\n",
    "from sklearn.preprocessing import StandardScaler\n",
    "from sklearn.compose import ColumnTransformer\n",
    "from sklearn.impute import SimpleImputer\n",
    "from sklearn import preprocessing\n",
    "\n",
    "\n",
    "df= pd.read_csv(\"filtered_062019.csv\",index_col=0)\n",
    "df1=df.dropna()\n",
    "df1 = df1.drop_duplicates()\n",
    "df1= df1.drop(['gpu0.mem_max', 'gpu0.smUtil_avg', 'gpu0.smUtil_max', 'gpu1.mem_max', 'gpu1.smUtil_avg', 'gpu1.smUtil_max', 'gpu2.mem_max', 'gpu2.smUtil_avg', 'gpu2.smUtil_max', 'gpu3.mem_max', 'gpu3.smUtil_avg', 'gpu3.smUtil_max'],axis=1)\n",
    "df1=df1.drop(['run_count', 'start', 'status', 'wait_time','cluster', 'ctime', 'datetime', 'end', 'etime', 'exec_host', 'exec_vnode', 'group', 'job_id', 'qtime'],axis=1)\n",
    "df1=df1.drop(['Exit_status', 'Resource_List.fluent_lic','Resource_List.mpiprocs','Resource_List.ngpus','resources_used.GPU_duration','resources_used.GPU_maxGpuMemoryUsed', 'resources_used.GPU_energyConsumed','Resource_List.nodect'],axis=1)\n",
    "df1['CPU_eff']= (df1['resources_used.cput']/df1['resources_used.walltime'])/df1['Resource_List.ncpus']\n",
    "df1 = df1.replace([np.inf, -np.inf], np.nan)\n",
    "df1=df1.dropna()\n",
    "X = df1.drop('CPU_eff', axis=1)\n",
    "y = df1['CPU_eff']\n",
    "\n",
    "numeric_features = ['Resource_List.mem','Resource_List.ncpus','Resource_List.walltime','resources_used.cpupercent', 'resources_used.cput','resources_used.mem', 'resources_used.ncpus', 'resources_used.vmem','resources_used.walltime']\n",
    "numeric_transformer = Pipeline(steps=[\n",
    "    ('imputer', SimpleImputer(strategy='median')),\n",
    "    ('scaler', StandardScaler(with_mean=False))])\n",
    "\n",
    "categorical_features = ['user','dept','queue']\n",
    "categorical_transformer = Pipeline(steps=[\n",
    "    ('imputer', SimpleImputer(strategy='constant', fill_value='missing')),\n",
    "    ('onehot', OneHotEncoder(handle_unknown='ignore'))])\n",
    "\n",
    "preprocessor = ColumnTransformer(\n",
    "    transformers=[\n",
    "        ('num', numeric_transformer, numeric_features),\n",
    "        ('cat', categorical_transformer, categorical_features)])\n",
    "\n",
    "X_train, X_test, y_train, y_test = train_test_split(X, y, test_size=0.2,random_state=0)\n",
    "\n",
    "lab_enc = preprocessing.LabelEncoder()\n",
    "y_train_encoded = lab_enc.fit_transform(y_train)\n",
    "y_test_encoded = lab_enc.fit_transform(y_test)\n",
    "\n",
    "\n",
    "clf = Pipeline([('preprocess', preprocessor),\n",
    "  ('feature_selection', SelectFromModel(LinearSVC(loss='l2', penalty='l1', dual=False))),\n",
    "  ('classification', RandomForestClassifier())\n",
    "])\n",
    "clf.fit(X_train, y_train_encoded)\n",
    "print(\"model score: %.3f\" % clf.score(X_test, y_test_encoded))\n"
   ]
  },
  {
   "cell_type": "code",
   "execution_count": null,
   "metadata": {},
   "outputs": [],
   "source": []
  }
 ],
 "metadata": {
  "kernelspec": {
   "display_name": "Python 3",
   "language": "python",
   "name": "python3"
  },
  "language_info": {
   "codemirror_mode": {
    "name": "ipython",
    "version": 3
   },
   "file_extension": ".py",
   "mimetype": "text/x-python",
   "name": "python",
   "nbconvert_exporter": "python",
   "pygments_lexer": "ipython3",
   "version": "3.8.1"
  }
 },
 "nbformat": 4,
 "nbformat_minor": 4
}
